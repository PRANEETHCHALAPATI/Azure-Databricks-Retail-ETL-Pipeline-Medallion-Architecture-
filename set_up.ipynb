{
 "cells": [
  {
   "cell_type": "markdown",
   "metadata": {
    "application/vnd.databricks.v1+cell": {
     "cellMetadata": {},
     "inputWidgets": {},
     "nuid": "f92b8000-69db-4b0b-9a26-d3b93d0836b3",
     "showTitle": false,
     "tableResultSettingsMap": {},
     "title": ""
    }
   },
   "source": [
    "### _Setup (once per workspace)_"
   ]
  },
  {
   "cell_type": "code",
   "execution_count": 0,
   "metadata": {
    "application/vnd.databricks.v1+cell": {
     "cellMetadata": {
      "byteLimit": 2048000,
      "rowLimit": 10000
     },
     "inputWidgets": {},
     "nuid": "63c7d62f-ff8a-4c5e-b074-71641ba792e7",
     "showTitle": false,
     "tableResultSettingsMap": {},
     "title": ""
    }
   },
   "outputs": [],
   "source": [
    "# ---- paths & database ----\n",
    "catalog = \"hive_metastore\"     # leave as is unless you're on Unity Catalog\n",
    "schema  = \"retail\"             # DB name for your tables\n",
    "base    = \"/mnt/delta/retail\"  # where we'll store Delta tables\n",
    "rawdir  = \"/FileStore/tables/retail\"  # put your uploaded CSVs here (UI upload)\n",
    "\n",
    "# create folders (idempotent)\n",
    "dbutils.fs.mkdirs(f\"{base}/bronze\")\n",
    "dbutils.fs.mkdirs(f\"{base}/silver\")\n",
    "dbutils.fs.mkdirs(f\"{base}/gold\")\n",
    "\n",
    "# create the database\n",
    "spark.sql(f\"CREATE DATABASE IF NOT EXISTS {schema}\")\n",
    "spark.sql(f\"USE {schema}\")\n",
    "\n",
    "# OPTIONAL: tidy filenames (only if your files have spaces)\n",
    "# rename \"Features data set.csv\" -> \"features.csv\", etc.\n",
    "def safe_mv(src, dst):\n",
    "    try: dbutils.fs.mv(src, dst, True)\n",
    "    except Exception as e: print(\"skip/moved:\", e)\n",
    "\n",
    "safe_mv(\"/FileStore/tables/Features_data_set.csv\", f\"{rawdir}/features.csv\")\n",
    "safe_mv(\"/FileStore/tables/sales_data_set.csv\",   f\"{rawdir}/sales.csv\")\n",
    "safe_mv(\"/FileStore/tables/stores_data_set.csv\",  f\"{rawdir}/stores.csv\")\n"
   ]
  }
 ],
 "metadata": {
  "application/vnd.databricks.v1+notebook": {
   "computePreferences": null,
   "dashboards": [],
   "environmentMetadata": {
    "base_environment": "",
    "environment_version": "3"
   },
   "inputWidgetPreferences": null,
   "language": "python",
   "notebookMetadata": {
    "pythonIndentUnit": 4
   },
   "notebookName": "set_up",
   "widgets": {}
  },
  "language_info": {
   "name": "python"
  }
 },
 "nbformat": 4,
 "nbformat_minor": 0
}