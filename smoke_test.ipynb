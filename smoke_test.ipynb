{
 "cells": [
  {
   "cell_type": "markdown",
   "metadata": {
    "application/vnd.databricks.v1+cell": {
     "cellMetadata": {},
     "inputWidgets": {},
     "nuid": "17f0f90c-67ad-4460-90a6-ade70b3c98d0",
     "showTitle": false,
     "tableResultSettingsMap": {},
     "title": ""
    }
   },
   "source": [
    "### _Smoke Test_"
   ]
  },
  {
   "cell_type": "code",
   "execution_count": 0,
   "metadata": {
    "application/vnd.databricks.v1+cell": {
     "cellMetadata": {
      "byteLimit": 2048000,
      "rowLimit": 10000
     },
     "inputWidgets": {},
     "nuid": "7f3510cf-8976-4d9b-92b6-33b96d118722",
     "showTitle": false,
     "tableResultSettingsMap": {},
     "title": ""
    }
   },
   "outputs": [
    {
     "output_type": "display_data",
     "data": {
      "text/html": [
       "<style scoped>\n",
       "  .table-result-container {\n",
       "    max-height: 300px;\n",
       "    overflow: auto;\n",
       "  }\n",
       "  table, th, td {\n",
       "    border: 1px solid black;\n",
       "    border-collapse: collapse;\n",
       "  }\n",
       "  th, td {\n",
       "    padding: 5px;\n",
       "  }\n",
       "  th {\n",
       "    text-align: left;\n",
       "  }\n",
       "</style><div class='table-result-container'><table class='table-result'><thead style='background-color: white'><tr><th>customer</th><th>amount</th></tr></thead><tbody><tr><td>Praneeth</td><td>100</td></tr><tr><td>Anjali</td><td>200</td></tr><tr><td>Ravi</td><td>150</td></tr></tbody></table></div>"
      ]
     },
     "metadata": {
      "application/vnd.databricks.v1+output": {
       "addedWidgets": {},
       "aggData": [],
       "aggError": "",
       "aggOverflow": false,
       "aggSchema": [],
       "aggSeriesLimitReached": false,
       "aggType": "",
       "arguments": {},
       "columnCustomDisplayInfos": {},
       "data": [
        [
         "Praneeth",
         100
        ],
        [
         "Anjali",
         200
        ],
        [
         "Ravi",
         150
        ]
       ],
       "datasetInfos": [],
       "dbfsResultPath": null,
       "isJsonSchema": true,
       "metadata": {},
       "overflow": false,
       "plotOptions": {
        "customPlotOptions": {},
        "displayType": "table",
        "pivotAggregation": null,
        "pivotColumns": null,
        "xColumns": null,
        "yColumns": null
       },
       "removedWidgets": [],
       "schema": [
        {
         "metadata": "{}",
         "name": "customer",
         "type": "\"string\""
        },
        {
         "metadata": "{}",
         "name": "amount",
         "type": "\"long\""
        }
       ],
       "type": "table"
      }
     },
     "output_type": "display_data"
    }
   ],
   "source": [
    "data = [(\"Praneeth\", 100), (\"Anjali\", 200), (\"Ravi\", 150)]\n",
    "df = spark.createDataFrame(data, [\"customer\", \"amount\"])\n",
    "display(df)\n"
   ]
  },
  {
   "cell_type": "code",
   "execution_count": 0,
   "metadata": {
    "application/vnd.databricks.v1+cell": {
     "cellMetadata": {
      "byteLimit": 2048000,
      "rowLimit": 10000
     },
     "inputWidgets": {},
     "nuid": "3af983b1-3091-4bc9-bc81-551396b299ea",
     "showTitle": false,
     "tableResultSettingsMap": {},
     "title": ""
    }
   },
   "outputs": [
    {
     "output_type": "display_data",
     "data": {
      "text/html": [
       "<style scoped>\n",
       "  .table-result-container {\n",
       "    max-height: 300px;\n",
       "    overflow: auto;\n",
       "  }\n",
       "  table, th, td {\n",
       "    border: 1px solid black;\n",
       "    border-collapse: collapse;\n",
       "  }\n",
       "  th, td {\n",
       "    padding: 5px;\n",
       "  }\n",
       "  th {\n",
       "    text-align: left;\n",
       "  }\n",
       "</style><div class='table-result-container'><table class='table-result'><thead style='background-color: white'><tr><th>Store</th><th>Date</th><th>Temperature</th><th>Fuel_Price</th><th>MarkDown1</th><th>MarkDown2</th><th>MarkDown3</th><th>MarkDown4</th><th>MarkDown5</th><th>CPI</th><th>Unemployment</th><th>IsHoliday</th></tr></thead><tbody><tr><td>1</td><td>2010-02-05</td><td>42.31</td><td>2.572</td><td>NA</td><td>NA</td><td>NA</td><td>NA</td><td>NA</td><td>211.0963582</td><td>8.106</td><td>false</td></tr><tr><td>1</td><td>2010-02-12</td><td>38.51</td><td>2.548</td><td>NA</td><td>NA</td><td>NA</td><td>NA</td><td>NA</td><td>211.2421698</td><td>8.106</td><td>true</td></tr><tr><td>1</td><td>2010-02-19</td><td>39.93</td><td>2.514</td><td>NA</td><td>NA</td><td>NA</td><td>NA</td><td>NA</td><td>211.2891429</td><td>8.106</td><td>false</td></tr><tr><td>1</td><td>2010-02-26</td><td>46.63</td><td>2.561</td><td>NA</td><td>NA</td><td>NA</td><td>NA</td><td>NA</td><td>211.3196429</td><td>8.106</td><td>false</td></tr><tr><td>1</td><td>2010-03-05</td><td>46.5</td><td>2.625</td><td>NA</td><td>NA</td><td>NA</td><td>NA</td><td>NA</td><td>211.3501429</td><td>8.106</td><td>false</td></tr></tbody></table></div>"
      ]
     },
     "metadata": {
      "application/vnd.databricks.v1+output": {
       "addedWidgets": {},
       "aggData": [],
       "aggError": "",
       "aggOverflow": false,
       "aggSchema": [],
       "aggSeriesLimitReached": false,
       "aggType": "",
       "arguments": {},
       "columnCustomDisplayInfos": {},
       "data": [
        [
         1,
         "2010-02-05",
         42.31,
         2.572,
         "NA",
         "NA",
         "NA",
         "NA",
         "NA",
         "211.0963582",
         "8.106",
         false
        ],
        [
         1,
         "2010-02-12",
         38.51,
         2.548,
         "NA",
         "NA",
         "NA",
         "NA",
         "NA",
         "211.2421698",
         "8.106",
         true
        ],
        [
         1,
         "2010-02-19",
         39.93,
         2.514,
         "NA",
         "NA",
         "NA",
         "NA",
         "NA",
         "211.2891429",
         "8.106",
         false
        ],
        [
         1,
         "2010-02-26",
         46.63,
         2.561,
         "NA",
         "NA",
         "NA",
         "NA",
         "NA",
         "211.3196429",
         "8.106",
         false
        ],
        [
         1,
         "2010-03-05",
         46.5,
         2.625,
         "NA",
         "NA",
         "NA",
         "NA",
         "NA",
         "211.3501429",
         "8.106",
         false
        ]
       ],
       "datasetInfos": [],
       "dbfsResultPath": null,
       "isJsonSchema": true,
       "metadata": {},
       "overflow": false,
       "plotOptions": {
        "customPlotOptions": {},
        "displayType": "table",
        "pivotAggregation": null,
        "pivotColumns": null,
        "xColumns": null,
        "yColumns": null
       },
       "removedWidgets": [],
       "schema": [
        {
         "metadata": "{}",
         "name": "Store",
         "type": "\"integer\""
        },
        {
         "metadata": "{\"__detected_date_formats\":\"d/M/yyyy\"}",
         "name": "Date",
         "type": "\"date\""
        },
        {
         "metadata": "{}",
         "name": "Temperature",
         "type": "\"double\""
        },
        {
         "metadata": "{}",
         "name": "Fuel_Price",
         "type": "\"double\""
        },
        {
         "metadata": "{}",
         "name": "MarkDown1",
         "type": "\"string\""
        },
        {
         "metadata": "{}",
         "name": "MarkDown2",
         "type": "\"string\""
        },
        {
         "metadata": "{}",
         "name": "MarkDown3",
         "type": "\"string\""
        },
        {
         "metadata": "{}",
         "name": "MarkDown4",
         "type": "\"string\""
        },
        {
         "metadata": "{}",
         "name": "MarkDown5",
         "type": "\"string\""
        },
        {
         "metadata": "{}",
         "name": "CPI",
         "type": "\"string\""
        },
        {
         "metadata": "{}",
         "name": "Unemployment",
         "type": "\"string\""
        },
        {
         "metadata": "{}",
         "name": "IsHoliday",
         "type": "\"boolean\""
        }
       ],
       "type": "table"
      }
     },
     "output_type": "display_data"
    }
   ],
   "source": [
    "df = spark.read.csv(\"/FileStore/tables/Features_data_set.csv\", header=True, inferSchema=True)\n",
    "display(df.limit(5))\n"
   ]
  },
  {
   "cell_type": "code",
   "execution_count": 0,
   "metadata": {
    "application/vnd.databricks.v1+cell": {
     "cellMetadata": {
      "byteLimit": 2048000,
      "rowLimit": 10000
     },
     "inputWidgets": {},
     "nuid": "32c19965-64ce-473c-b454-5d67c6abdfb4",
     "showTitle": false,
     "tableResultSettingsMap": {},
     "title": ""
    }
   },
   "outputs": [
    {
     "output_type": "display_data",
     "data": {
      "text/html": [
       "<style scoped>\n",
       "  .table-result-container {\n",
       "    max-height: 300px;\n",
       "    overflow: auto;\n",
       "  }\n",
       "  table, th, td {\n",
       "    border: 1px solid black;\n",
       "    border-collapse: collapse;\n",
       "  }\n",
       "  th, td {\n",
       "    padding: 5px;\n",
       "  }\n",
       "  th {\n",
       "    text-align: left;\n",
       "  }\n",
       "</style><div class='table-result-container'><table class='table-result'><thead style='background-color: white'><tr><th>Store</th><th>Dept</th><th>Date</th><th>Weekly_Sales</th><th>IsHoliday</th></tr></thead><tbody><tr><td>1</td><td>1</td><td>2010-02-05</td><td>24924.5</td><td>false</td></tr><tr><td>1</td><td>1</td><td>2010-02-12</td><td>46039.49</td><td>true</td></tr><tr><td>1</td><td>1</td><td>2010-02-19</td><td>41595.55</td><td>false</td></tr><tr><td>1</td><td>1</td><td>2010-02-26</td><td>19403.54</td><td>false</td></tr><tr><td>1</td><td>1</td><td>2010-03-05</td><td>21827.9</td><td>false</td></tr></tbody></table></div>"
      ]
     },
     "metadata": {
      "application/vnd.databricks.v1+output": {
       "addedWidgets": {},
       "aggData": [],
       "aggError": "",
       "aggOverflow": false,
       "aggSchema": [],
       "aggSeriesLimitReached": false,
       "aggType": "",
       "arguments": {},
       "columnCustomDisplayInfos": {},
       "data": [
        [
         1,
         1,
         "2010-02-05",
         24924.5,
         false
        ],
        [
         1,
         1,
         "2010-02-12",
         46039.49,
         true
        ],
        [
         1,
         1,
         "2010-02-19",
         41595.55,
         false
        ],
        [
         1,
         1,
         "2010-02-26",
         19403.54,
         false
        ],
        [
         1,
         1,
         "2010-03-05",
         21827.9,
         false
        ]
       ],
       "datasetInfos": [],
       "dbfsResultPath": null,
       "isJsonSchema": true,
       "metadata": {},
       "overflow": false,
       "plotOptions": {
        "customPlotOptions": {},
        "displayType": "table",
        "pivotAggregation": null,
        "pivotColumns": null,
        "xColumns": null,
        "yColumns": null
       },
       "removedWidgets": [],
       "schema": [
        {
         "metadata": "{}",
         "name": "Store",
         "type": "\"integer\""
        },
        {
         "metadata": "{}",
         "name": "Dept",
         "type": "\"integer\""
        },
        {
         "metadata": "{\"__detected_date_formats\":\"d/M/yyyy\"}",
         "name": "Date",
         "type": "\"date\""
        },
        {
         "metadata": "{}",
         "name": "Weekly_Sales",
         "type": "\"double\""
        },
        {
         "metadata": "{}",
         "name": "IsHoliday",
         "type": "\"boolean\""
        }
       ],
       "type": "table"
      }
     },
     "output_type": "display_data"
    }
   ],
   "source": [
    "df = spark.read.csv(\"/FileStore/tables/sales_data_set.csv\", header=True, inferSchema=True)\n",
    "display(df.limit(5))"
   ]
  },
  {
   "cell_type": "code",
   "execution_count": 0,
   "metadata": {
    "application/vnd.databricks.v1+cell": {
     "cellMetadata": {
      "byteLimit": 2048000,
      "rowLimit": 10000
     },
     "inputWidgets": {},
     "nuid": "d34ef301-95ac-4b1c-b052-e69752003d26",
     "showTitle": false,
     "tableResultSettingsMap": {},
     "title": ""
    }
   },
   "outputs": [
    {
     "output_type": "display_data",
     "data": {
      "text/html": [
       "<style scoped>\n",
       "  .table-result-container {\n",
       "    max-height: 300px;\n",
       "    overflow: auto;\n",
       "  }\n",
       "  table, th, td {\n",
       "    border: 1px solid black;\n",
       "    border-collapse: collapse;\n",
       "  }\n",
       "  th, td {\n",
       "    padding: 5px;\n",
       "  }\n",
       "  th {\n",
       "    text-align: left;\n",
       "  }\n",
       "</style><div class='table-result-container'><table class='table-result'><thead style='background-color: white'><tr><th>Store</th><th>Type</th><th>Size</th></tr></thead><tbody><tr><td>1</td><td>A</td><td>151315</td></tr><tr><td>2</td><td>A</td><td>202307</td></tr><tr><td>3</td><td>B</td><td>37392</td></tr><tr><td>4</td><td>A</td><td>205863</td></tr><tr><td>5</td><td>B</td><td>34875</td></tr></tbody></table></div>"
      ]
     },
     "metadata": {
      "application/vnd.databricks.v1+output": {
       "addedWidgets": {},
       "aggData": [],
       "aggError": "",
       "aggOverflow": false,
       "aggSchema": [],
       "aggSeriesLimitReached": false,
       "aggType": "",
       "arguments": {},
       "columnCustomDisplayInfos": {},
       "data": [
        [
         1,
         "A",
         151315
        ],
        [
         2,
         "A",
         202307
        ],
        [
         3,
         "B",
         37392
        ],
        [
         4,
         "A",
         205863
        ],
        [
         5,
         "B",
         34875
        ]
       ],
       "datasetInfos": [],
       "dbfsResultPath": null,
       "isJsonSchema": true,
       "metadata": {},
       "overflow": false,
       "plotOptions": {
        "customPlotOptions": {},
        "displayType": "table",
        "pivotAggregation": null,
        "pivotColumns": null,
        "xColumns": null,
        "yColumns": null
       },
       "removedWidgets": [],
       "schema": [
        {
         "metadata": "{}",
         "name": "Store",
         "type": "\"integer\""
        },
        {
         "metadata": "{}",
         "name": "Type",
         "type": "\"string\""
        },
        {
         "metadata": "{}",
         "name": "Size",
         "type": "\"integer\""
        }
       ],
       "type": "table"
      }
     },
     "output_type": "display_data"
    }
   ],
   "source": [
    "df = spark.read.csv(\"/FileStore/tables/stores_data_set.csv\", header=True, inferSchema=True)\n",
    "display(df.limit(5))"
   ]
  },
  {
   "cell_type": "code",
   "execution_count": 0,
   "metadata": {
    "application/vnd.databricks.v1+cell": {
     "cellMetadata": {
      "byteLimit": 2048000,
      "rowLimit": 10000
     },
     "inputWidgets": {},
     "nuid": "f99e2b10-68ad-4097-b241-665f36ff2bbb",
     "showTitle": false,
     "tableResultSettingsMap": {},
     "title": ""
    }
   },
   "outputs": [
    {
     "output_type": "display_data",
     "data": {
      "text/html": [
       "<style scoped>\n",
       "  .table-result-container {\n",
       "    max-height: 300px;\n",
       "    overflow: auto;\n",
       "  }\n",
       "  table, th, td {\n",
       "    border: 1px solid black;\n",
       "    border-collapse: collapse;\n",
       "  }\n",
       "  th, td {\n",
       "    padding: 5px;\n",
       "  }\n",
       "  th {\n",
       "    text-align: left;\n",
       "  }\n",
       "</style><div class='table-result-container'><table class='table-result'><thead style='background-color: white'><tr><th>sale_id</th><th>sale_date</th><th>product_id</th><th>product_name</th><th>category</th><th>store_id</th><th>customer_id</th><th>customer_name</th><th>quantity</th><th>price</th></tr></thead><tbody><tr><td>1</td><td>2025-08-01</td><td>P001</td><td>Laptop</td><td>Electronics</td><td>S001</td><td>C001</td><td>Alice</td><td>1</td><td>800.0</td></tr><tr><td>2</td><td>2025-08-01</td><td>P002</td><td>Headphones</td><td>Electronics</td><td>S001</td><td>C002</td><td>Bob</td><td>2</td><td>50.0</td></tr><tr><td>3</td><td>2025-08-02</td><td>P003</td><td>Shoes</td><td>Fashion</td><td>S002</td><td>C001</td><td>Alice</td><td>1</td><td>120.0</td></tr><tr><td>4</td><td>2025-08-02</td><td>P002</td><td>Headphones</td><td>Electronics</td><td>S003</td><td>C003</td><td>Charlie</td><td>1</td><td>55.0</td></tr><tr><td>5</td><td>2025-08-03</td><td>P004</td><td>T-shirt</td><td>Fashion</td><td>S002</td><td>C004</td><td>David</td><td>3</td><td>25.0</td></tr></tbody></table></div>"
      ]
     },
     "metadata": {
      "application/vnd.databricks.v1+output": {
       "addedWidgets": {},
       "aggData": [],
       "aggError": "",
       "aggOverflow": false,
       "aggSchema": [],
       "aggSeriesLimitReached": false,
       "aggType": "",
       "arguments": {},
       "columnCustomDisplayInfos": {},
       "data": [
        [
         1,
         "2025-08-01",
         "P001",
         "Laptop",
         "Electronics",
         "S001",
         "C001",
         "Alice",
         1,
         800.0
        ],
        [
         2,
         "2025-08-01",
         "P002",
         "Headphones",
         "Electronics",
         "S001",
         "C002",
         "Bob",
         2,
         50.0
        ],
        [
         3,
         "2025-08-02",
         "P003",
         "Shoes",
         "Fashion",
         "S002",
         "C001",
         "Alice",
         1,
         120.0
        ],
        [
         4,
         "2025-08-02",
         "P002",
         "Headphones",
         "Electronics",
         "S003",
         "C003",
         "Charlie",
         1,
         55.0
        ],
        [
         5,
         "2025-08-03",
         "P004",
         "T-shirt",
         "Fashion",
         "S002",
         "C004",
         "David",
         3,
         25.0
        ]
       ],
       "datasetInfos": [],
       "dbfsResultPath": null,
       "isJsonSchema": true,
       "metadata": {},
       "overflow": false,
       "plotOptions": {
        "customPlotOptions": {},
        "displayType": "table",
        "pivotAggregation": null,
        "pivotColumns": null,
        "xColumns": null,
        "yColumns": null
       },
       "removedWidgets": [],
       "schema": [
        {
         "metadata": "{}",
         "name": "sale_id",
         "type": "\"long\""
        },
        {
         "metadata": "{}",
         "name": "sale_date",
         "type": "\"string\""
        },
        {
         "metadata": "{}",
         "name": "product_id",
         "type": "\"string\""
        },
        {
         "metadata": "{}",
         "name": "product_name",
         "type": "\"string\""
        },
        {
         "metadata": "{}",
         "name": "category",
         "type": "\"string\""
        },
        {
         "metadata": "{}",
         "name": "store_id",
         "type": "\"string\""
        },
        {
         "metadata": "{}",
         "name": "customer_id",
         "type": "\"string\""
        },
        {
         "metadata": "{}",
         "name": "customer_name",
         "type": "\"string\""
        },
        {
         "metadata": "{}",
         "name": "quantity",
         "type": "\"long\""
        },
        {
         "metadata": "{}",
         "name": "price",
         "type": "\"double\""
        }
       ],
       "type": "table"
      }
     },
     "output_type": "display_data"
    }
   ],
   "source": [
    "from pyspark.sql import SparkSession\n",
    "from pyspark.sql.functions import col\n",
    "\n",
    "# Sample data: (sale_id, sale_date, product_id, product_name, category, store_id, customer_id, customer_name, quantity, price)\n",
    "data = [\n",
    "    (1, \"2025-08-01\", \"P001\", \"Laptop\", \"Electronics\", \"S001\", \"C001\", \"Alice\", 1, 800.0),\n",
    "    (2, \"2025-08-01\", \"P002\", \"Headphones\", \"Electronics\", \"S001\", \"C002\", \"Bob\", 2, 50.0),\n",
    "    (3, \"2025-08-02\", \"P003\", \"Shoes\", \"Fashion\", \"S002\", \"C001\", \"Alice\", 1, 120.0),\n",
    "    (4, \"2025-08-02\", \"P002\", \"Headphones\", \"Electronics\", \"S003\", \"C003\", \"Charlie\", 1, 55.0),\n",
    "    (5, \"2025-08-03\", \"P004\", \"T-shirt\", \"Fashion\", \"S002\", \"C004\", \"David\", 3, 25.0),\n",
    "]\n",
    "\n",
    "columns = [\"sale_id\", \"sale_date\", \"product_id\", \"product_name\", \"category\", \"store_id\", \"customer_id\", \"customer_name\", \"quantity\", \"price\"]\n",
    "\n",
    "df = spark.createDataFrame(data, columns)\n",
    "\n",
    "display(df)\n"
   ]
  },
  {
   "cell_type": "code",
   "execution_count": 0,
   "metadata": {
    "application/vnd.databricks.v1+cell": {
     "cellMetadata": {},
     "inputWidgets": {},
     "nuid": "cbc86193-0a8f-46fa-a21a-144c631967f9",
     "showTitle": false,
     "tableResultSettingsMap": {},
     "title": ""
    }
   },
   "outputs": [],
   "source": []
  }
 ],
 "metadata": {
  "application/vnd.databricks.v1+notebook": {
   "computePreferences": null,
   "dashboards": [],
   "environmentMetadata": {
    "base_environment": "",
    "environment_version": "3"
   },
   "inputWidgetPreferences": null,
   "language": "python",
   "notebookMetadata": {
    "pythonIndentUnit": 4
   },
   "notebookName": "smoke_test",
   "widgets": {}
  },
  "language_info": {
   "name": "python"
  }
 },
 "nbformat": 4,
 "nbformat_minor": 0
}